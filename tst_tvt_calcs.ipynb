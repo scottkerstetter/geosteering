{
 "cells": [
  {
   "cell_type": "markdown",
   "id": "1fd998cf",
   "metadata": {},
   "source": [
    "# True Stratigraphic Thickness and True Vertical Thickness Calculations for Geosteering\n",
    "\n",
    "## Scope\n",
    "Calculate True Stratigraphic Thickness (TST) and True Vertical Thickness (TVT) from bed dip and vice-versa.\n",
    "\n",
    "## Definitions\n",
    "* `TST` True Stratigraphic Thickness\n",
    "* `TVT` True Vertical Thickness\n",
    "* `TSP` or True Stratigraphic Position is inversion of LWD log character to match a log from nearby typewell and find apparent dip. Inversion is required because drill can cover a stratigrpahic interval top to bottom or bottom to top.\n",
    "* `MT` Measured Thickness is distance along wellbore across a stratigraphic interval.\n",
    "\n",
    "## Equations\n",
    "### Setchell equation (Tearpock and Biscke, 1991)\n",
    "![Setchell](setchell.png)\n",
    "* `MT` = measured thickness\n",
    "* `TST` = true stratigraphic thickness\n",
    "* `phi` = formation dip\n",
    "* `thetad` = formation dip azimuth\n",
    "* `psi` = borehole inclination\n",
    "* `thetab` = borehole azimuth\n",
    "\n",
    "## Sources\n",
    "* Bateman and Hepp, 1981, Application of True Vertical Depth, True Stratigraphic Thickness, and True Vertical Thickness Log Displays\n",
    "* Berg, 2012, Calculating True Stratigraphic Thickness and Vertical Thickness\n",
    "* Berg et al., 2013, Geosteering Using True Stratigraphic Thickness (URTeC Control ID Number: 1590259)\n"
   ]
  },
  {
   "cell_type": "code",
   "execution_count": 1,
   "id": "6f055601",
   "metadata": {},
   "outputs": [],
   "source": [
    "import math"
   ]
  },
  {
   "cell_type": "code",
   "execution_count": 38,
   "id": "6d738bad",
   "metadata": {},
   "outputs": [],
   "source": [
    "# setchell equation (see equation above and figure below)\n",
    "def calc_tst(mt, phi, thetad, psi, thetab):\n",
    "    \"\"\"Calculate TST from inputs MT, Phi, Theta-Dip, Psi, Theta-Borehole.\n",
    "       Angles must be converted from degrees to radians.\"\"\"\n",
    "    phi = math.radians(phi)\n",
    "    thetad = math.radians(thetad)\n",
    "    psi = math.radians(psi)\n",
    "    thetab = math.radians(thetab)\n",
    "    return mt * (math.cos(psi) - math.sin(psi)*math.cos(thetad - thetab) * math.tan(phi)) * math.cos(phi)"
   ]
  },
  {
   "cell_type": "markdown",
   "id": "aa6b27b1",
   "metadata": {},
   "source": [
    "Given the relationship above and figure below, MT >= TST. TST is positive is cutting downsection and negative if cutting upsection.\n",
    "![Berg TST vs MT Figure](berg_et_al_2013_tst_vs_mt_figure.png)"
   ]
  },
  {
   "cell_type": "code",
   "execution_count": 55,
   "id": "310f5bd3",
   "metadata": {
    "scrolled": true
   },
   "outputs": [
    {
     "name": "stdout",
     "output_type": "stream",
     "text": [
      "MT = 100 ft for all examples below\n",
      "\n",
      "0 INC borehole thru 0 DIP bed\n",
      "TST:  100.0\n",
      "0 INC borehole thru 20 DIP bed\n",
      "TST:  93.97\n",
      "40 INC borehole thru 0 DIP bed\n",
      "TST:  76.6\n",
      "40 INC borehole thru 20 DIP bed\n",
      "TST:  50.0\n",
      "40 INC borehole thru -20 DIP bed\n",
      "TST:  93.97\n"
     ]
    }
   ],
   "source": [
    "# solve for TST with various angles of bedding dip and borehole inclination\n",
    "print(\"MT = 100 ft for all examples below\\n\")\n",
    "print(\"0 INC borehole thru 0 DIP bed\")\n",
    "tst = calc_tst(100, 0, 345, 0, 345)\n",
    "print(\"TST: \", round(tst, 2))\n",
    "\n",
    "print(\"0 INC borehole thru 20 DIP bed\")\n",
    "tst = calc_tst(100, 20, 345, 0, 345)\n",
    "print(\"TST: \", round(tst, 2))\n",
    "\n",
    "print(\"40 INC borehole thru 0 DIP bed\")\n",
    "tst = calc_tst(100, 0, 345, 40, 345)\n",
    "print(\"TST: \", round(tst, 2))\n",
    "\n",
    "print(\"40 INC borehole thru 20 DIP bed\")\n",
    "tst = calc_tst(100, 20, 345, 40, 345)\n",
    "print(\"TST: \", round(tst, 2))\n",
    "\n",
    "print(\"40 INC borehole thru -20 DIP bed\")\n",
    "tst = calc_tst(100, -20, 345, 40, 345)\n",
    "print(\"TST: \", round(tst, 2))"
   ]
  }
 ],
 "metadata": {
  "kernelspec": {
   "display_name": "Python 3 (ipykernel)",
   "language": "python",
   "name": "python3"
  },
  "language_info": {
   "codemirror_mode": {
    "name": "ipython",
    "version": 3
   },
   "file_extension": ".py",
   "mimetype": "text/x-python",
   "name": "python",
   "nbconvert_exporter": "python",
   "pygments_lexer": "ipython3",
   "version": "3.10.8"
  }
 },
 "nbformat": 4,
 "nbformat_minor": 5
}
